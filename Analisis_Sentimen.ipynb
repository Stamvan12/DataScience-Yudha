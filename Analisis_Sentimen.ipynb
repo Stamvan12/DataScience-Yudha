{
  "cells": [
    {
      "cell_type": "markdown",
      "metadata": {
        "id": "ndtPi8op_2QP"
      },
      "source": [
        "#**ANALISIS SENTIMEN TWITTER TERHADAP KULIAH ONLINE MENGGUNAKAN METODE BERT PYTHON**\n",
        "\n",
        "KELOMPOK 4 :\n",
        "1. Ida Ayu Oka Dewi Cahyani - LINAC\n",
        "2. Yudha Mansoba - LINAC\n",
        "3. Muh. Ikram Kamal - LINAC\n",
        "4. Suriani - LINAC"
      ]
    },
    {
      "cell_type": "markdown",
      "source": [
        "Metode **BERT** adalah metode yang digunakan oleh google yang berbasis neural network yang dapat digunakan untuk proses pencarian data. Algoritma ini sudah digunakan oleh google semenjak tahun lalu atau lebih tepatnya sejak 21 Oktober 2021.\n",
        "\n",
        "Algoritma **BERT** digunakan pada pre-training Natural Language Processing (**NLP**), dimana mesin dapat belajar dan meningkatkan kemampuannya dalam proses identifikasi kata. Jaringan ANN ini akan terus belajar dan tentunya hasil yang ditampilkan akan semakin bagus.\n",
        "\n",
        "\n",
        "***NB : dimohon untuk runtime menggunakan GPU***"
      ],
      "metadata": {
        "id": "0av0-g2SeLcb"
      }
    },
    {
      "cell_type": "markdown",
      "metadata": {
        "id": "v09mLNTzLyuX"
      },
      "source": [
        "#IMPORT LIBRARIES"
      ]
    },
    {
      "cell_type": "markdown",
      "source": [
        "Proses **import libraries** adalah proses untuk menginputkan librari apa saja yang akan digunakan dalam proses analisis sentimen ini.Tapi tidak menutup kemungkinan di bawah ini kami akan menginputkan libraries lainnya karena malas untuk kembali ke atas."
      ],
      "metadata": {
        "id": "P5Zx00HCd9dd"
      }
    },
    {
      "cell_type": "code",
      "execution_count": null,
      "metadata": {
        "id": "LrmWVpHiL3hQ"
      },
      "outputs": [],
      "source": [
        "# INSTALL TENSORFLOW BUAT PROSES BERT\n",
        "!pip install -q -U tensorflow-text"
      ]
    },
    {
      "cell_type": "code",
      "execution_count": null,
      "metadata": {
        "id": "BfgSkQxDL7aD"
      },
      "outputs": [],
      "source": [
        "# INSTALL MODEL DARI TENSORFLOW\n",
        "!pip install -q tf-models-official"
      ]
    },
    {
      "cell_type": "code",
      "execution_count": null,
      "metadata": {
        "colab": {
          "base_uri": "https://localhost:8080/"
        },
        "id": "SMJWiOSdK78f",
        "outputId": "75f200ee-db37-42be-af1b-640d1933543d"
      },
      "outputs": [
        {
          "output_type": "stream",
          "name": "stdout",
          "text": [
            "Drive already mounted at /content/drive; to attempt to forcibly remount, call drive.mount(\"/content/drive\", force_remount=True).\n"
          ]
        }
      ],
      "source": [
        "from google.colab import drive\n",
        "drive.mount('/content/drive')"
      ]
    },
    {
      "cell_type": "code",
      "execution_count": null,
      "metadata": {
        "id": "gHdhCe4N_wLU"
      },
      "outputs": [],
      "source": [
        "import os\n",
        "import shutil\n",
        "import pandas as pd\n",
        "\n",
        "import tensorflow as tf\n",
        "import tensorflow_hub as hub\n",
        "import tensorflow_text as text\n",
        "from official.nlp import optimization  # Digunakan untuk create AdamW optimizer\n",
        "\n",
        "import matplotlib.pyplot as plt\n",
        "\n",
        "tf.get_logger().setLevel('ERROR')"
      ]
    },
    {
      "cell_type": "code",
      "execution_count": null,
      "metadata": {
        "colab": {
          "base_uri": "https://localhost:8080/"
        },
        "id": "YcOwL2yZoSuB",
        "outputId": "fb157fd3-459a-4054-9293-91e906b89216"
      },
      "outputs": [
        {
          "output_type": "stream",
          "name": "stdout",
          "text": [
            "Requirement already satisfied: kaggle in /usr/local/lib/python3.7/dist-packages (1.5.12)\n",
            "Requirement already satisfied: requests in /usr/local/lib/python3.7/dist-packages (from kaggle) (2.23.0)\n",
            "Requirement already satisfied: tqdm in /usr/local/lib/python3.7/dist-packages (from kaggle) (4.63.0)\n",
            "Requirement already satisfied: six>=1.10 in /usr/local/lib/python3.7/dist-packages (from kaggle) (1.15.0)\n",
            "Requirement already satisfied: urllib3 in /usr/local/lib/python3.7/dist-packages (from kaggle) (1.24.3)\n",
            "Requirement already satisfied: python-dateutil in /usr/local/lib/python3.7/dist-packages (from kaggle) (2.8.2)\n",
            "Requirement already satisfied: certifi in /usr/local/lib/python3.7/dist-packages (from kaggle) (2021.10.8)\n",
            "Requirement already satisfied: python-slugify in /usr/local/lib/python3.7/dist-packages (from kaggle) (6.1.1)\n",
            "Requirement already satisfied: text-unidecode>=1.3 in /usr/local/lib/python3.7/dist-packages (from python-slugify->kaggle) (1.3)\n",
            "Requirement already satisfied: chardet<4,>=3.0.2 in /usr/local/lib/python3.7/dist-packages (from requests->kaggle) (3.0.4)\n",
            "Requirement already satisfied: idna<3,>=2.5 in /usr/local/lib/python3.7/dist-packages (from requests->kaggle) (2.10)\n"
          ]
        }
      ],
      "source": [
        "!pip install kaggle"
      ]
    },
    {
      "cell_type": "code",
      "execution_count": null,
      "metadata": {
        "id": "scAwKvw_osoZ",
        "colab": {
          "base_uri": "https://localhost:8080/"
        },
        "outputId": "a63dd61f-4af5-4ccb-e1b3-cefeb4acfa8e"
      },
      "outputs": [
        {
          "output_type": "stream",
          "name": "stdout",
          "text": [
            "mkdir: cannot create directory ‘/root/.kaggle’: File exists\n"
          ]
        }
      ],
      "source": [
        "!mkdir ~/.kaggle"
      ]
    },
    {
      "cell_type": "code",
      "execution_count": null,
      "metadata": {
        "id": "TTO-NI6pov2n"
      },
      "outputs": [],
      "source": [
        "!cp kaggle.json ~/.kaggle/"
      ]
    },
    {
      "cell_type": "code",
      "execution_count": null,
      "metadata": {
        "id": "41qWyV7oo1dd"
      },
      "outputs": [],
      "source": [
        "!chmod 600 ~/.kaggle/kaggle.json"
      ]
    },
    {
      "cell_type": "markdown",
      "metadata": {
        "id": "gtDfNg26TEwb"
      },
      "source": [
        "##DATA ACQUISITION"
      ]
    },
    {
      "cell_type": "markdown",
      "metadata": {
        "id": "qbOZyZ9gTJi3"
      },
      "source": [
        "pengambilan data yang dilakukan adalah dengan mengambil data dari sentimen masyarakat Indonesia dalam sebuah dataset yang sudah bersih yang kita ambil dari kaggle. *Review Lapak Sentiment on Kaggle https://www.kaggle.com/datasets/christofel04/review-lapak-sentiment?utm_medium=social&utm_campaign=kaggle-dataset-share&utm_source=twitter*. Data ini nantinya yang akan dijadikan acuan oleh metode **BERT** yang kami gunakan untuk belajar mengenai sentimen dengan bahasa indonesia. sehingga setelah komputer belajar dengan dataset ini komputer dapat menentukan kata tersebut masuk ke dalam sentimen yang mana."
      ]
    },
    {
      "cell_type": "code",
      "execution_count": null,
      "metadata": {
        "colab": {
          "base_uri": "https://localhost:8080/"
        },
        "id": "GzZ8O5KtKjju",
        "outputId": "6234760e-3f45-465d-b6bf-8150bbc88cbc"
      },
      "outputs": [
        {
          "output_type": "stream",
          "name": "stdout",
          "text": [
            "Downloading review-lapak-sentiment.zip to /content\n",
            "\r  0% 0.00/2.74M [00:00<?, ?B/s]\n",
            "\r100% 2.74M/2.74M [00:00<00:00, 60.5MB/s]\n"
          ]
        }
      ],
      "source": [
        "!kaggle datasets download -d christofel04/review-lapak-sentiment"
      ]
    },
    {
      "cell_type": "code",
      "execution_count": null,
      "metadata": {
        "colab": {
          "base_uri": "https://localhost:8080/"
        },
        "id": "1rqnqITRKpWm",
        "outputId": "1f255309-c97e-45d1-d2ed-cf3cdf04e8dc"
      },
      "outputs": [
        {
          "output_type": "stream",
          "name": "stdout",
          "text": [
            "Archive:  /content/review-lapak-sentiment.zip\n",
            "  inflating: /content/drive/MyDrive/review-lapak-sentiment/train.csv  \n"
          ]
        }
      ],
      "source": [
        "!unzip '/content/review-lapak-sentiment.zip' -d '/content/drive/MyDrive/review-lapak-sentiment'"
      ]
    },
    {
      "cell_type": "code",
      "execution_count": null,
      "metadata": {
        "colab": {
          "base_uri": "https://localhost:8080/",
          "height": 519
        },
        "id": "dgI7-Z4vMRhk",
        "outputId": "efaad9c7-d0e0-4984-f085-6bc10b2bb670"
      },
      "outputs": [
        {
          "output_type": "execute_result",
          "data": {
            "text/plain": [
              "          id                                  header_review  \\\n",
              "0          0                   Mantap Barang Sesuai Pesanan   \n",
              "1          1                                   Mantaps.....   \n",
              "2          2                                  Barang Sesuai   \n",
              "3          3                                    Barang Asli   \n",
              "4          4                            Mmc  32 Gb. Samsung   \n",
              "...      ...                                            ...   \n",
              "96324  96324                                 Sesuai Pesanan   \n",
              "96325  96325                                     Biasa Saja   \n",
              "96326  96326                            Okeexxxxxxxxxxxxxxx   \n",
              "96327  96327  Barang Cepat Sampai Dan Bagus. Makasih Yaa...   \n",
              "96328  96328                                        Siiip.    \n",
              "\n",
              "                                   review_sangat_singkat  label  \n",
              "0                           mantap barang sesuai pesanan      1  \n",
              "1                                           Mantaps.....      1  \n",
              "2      Terima kasih buka lapaklapak barang sesuai den...      1  \n",
              "3                                            Barang asli      1  \n",
              "4      Packing  rapih  barang sesuai  pesanan  dan ce...      1  \n",
              "...                                                  ...    ...  \n",
              "96324         sudah sampai, blm dicoba,semoga bermanfaat      1  \n",
              "96325  barangnya sesuai dengan harganya thanks sda di...      1  \n",
              "96326                     okeexxxxkkkkkkkkkkkkkkkkkkssss      1  \n",
              "96327  Respon nya bagus ramah. Barang cpt sampai. Mak...      1  \n",
              "96328       Sesuai pesanan, mantap. . Recomended seller.      1  \n",
              "\n",
              "[96329 rows x 4 columns]"
            ],
            "text/html": [
              "\n",
              "  <div id=\"df-661ee5c3-225c-4995-a015-6e29b78ddb5b\">\n",
              "    <div class=\"colab-df-container\">\n",
              "      <div>\n",
              "<style scoped>\n",
              "    .dataframe tbody tr th:only-of-type {\n",
              "        vertical-align: middle;\n",
              "    }\n",
              "\n",
              "    .dataframe tbody tr th {\n",
              "        vertical-align: top;\n",
              "    }\n",
              "\n",
              "    .dataframe thead th {\n",
              "        text-align: right;\n",
              "    }\n",
              "</style>\n",
              "<table border=\"1\" class=\"dataframe\">\n",
              "  <thead>\n",
              "    <tr style=\"text-align: right;\">\n",
              "      <th></th>\n",
              "      <th>id</th>\n",
              "      <th>header_review</th>\n",
              "      <th>review_sangat_singkat</th>\n",
              "      <th>label</th>\n",
              "    </tr>\n",
              "  </thead>\n",
              "  <tbody>\n",
              "    <tr>\n",
              "      <th>0</th>\n",
              "      <td>0</td>\n",
              "      <td>Mantap Barang Sesuai Pesanan</td>\n",
              "      <td>mantap barang sesuai pesanan</td>\n",
              "      <td>1</td>\n",
              "    </tr>\n",
              "    <tr>\n",
              "      <th>1</th>\n",
              "      <td>1</td>\n",
              "      <td>Mantaps.....</td>\n",
              "      <td>Mantaps.....</td>\n",
              "      <td>1</td>\n",
              "    </tr>\n",
              "    <tr>\n",
              "      <th>2</th>\n",
              "      <td>2</td>\n",
              "      <td>Barang Sesuai</td>\n",
              "      <td>Terima kasih buka lapaklapak barang sesuai den...</td>\n",
              "      <td>1</td>\n",
              "    </tr>\n",
              "    <tr>\n",
              "      <th>3</th>\n",
              "      <td>3</td>\n",
              "      <td>Barang Asli</td>\n",
              "      <td>Barang asli</td>\n",
              "      <td>1</td>\n",
              "    </tr>\n",
              "    <tr>\n",
              "      <th>4</th>\n",
              "      <td>4</td>\n",
              "      <td>Mmc  32 Gb. Samsung</td>\n",
              "      <td>Packing  rapih  barang sesuai  pesanan  dan ce...</td>\n",
              "      <td>1</td>\n",
              "    </tr>\n",
              "    <tr>\n",
              "      <th>...</th>\n",
              "      <td>...</td>\n",
              "      <td>...</td>\n",
              "      <td>...</td>\n",
              "      <td>...</td>\n",
              "    </tr>\n",
              "    <tr>\n",
              "      <th>96324</th>\n",
              "      <td>96324</td>\n",
              "      <td>Sesuai Pesanan</td>\n",
              "      <td>sudah sampai, blm dicoba,semoga bermanfaat</td>\n",
              "      <td>1</td>\n",
              "    </tr>\n",
              "    <tr>\n",
              "      <th>96325</th>\n",
              "      <td>96325</td>\n",
              "      <td>Biasa Saja</td>\n",
              "      <td>barangnya sesuai dengan harganya thanks sda di...</td>\n",
              "      <td>1</td>\n",
              "    </tr>\n",
              "    <tr>\n",
              "      <th>96326</th>\n",
              "      <td>96326</td>\n",
              "      <td>Okeexxxxxxxxxxxxxxx</td>\n",
              "      <td>okeexxxxkkkkkkkkkkkkkkkkkkssss</td>\n",
              "      <td>1</td>\n",
              "    </tr>\n",
              "    <tr>\n",
              "      <th>96327</th>\n",
              "      <td>96327</td>\n",
              "      <td>Barang Cepat Sampai Dan Bagus. Makasih Yaa...</td>\n",
              "      <td>Respon nya bagus ramah. Barang cpt sampai. Mak...</td>\n",
              "      <td>1</td>\n",
              "    </tr>\n",
              "    <tr>\n",
              "      <th>96328</th>\n",
              "      <td>96328</td>\n",
              "      <td>Siiip.</td>\n",
              "      <td>Sesuai pesanan, mantap. . Recomended seller.</td>\n",
              "      <td>1</td>\n",
              "    </tr>\n",
              "  </tbody>\n",
              "</table>\n",
              "<p>96329 rows × 4 columns</p>\n",
              "</div>\n",
              "      <button class=\"colab-df-convert\" onclick=\"convertToInteractive('df-661ee5c3-225c-4995-a015-6e29b78ddb5b')\"\n",
              "              title=\"Convert this dataframe to an interactive table.\"\n",
              "              style=\"display:none;\">\n",
              "        \n",
              "  <svg xmlns=\"http://www.w3.org/2000/svg\" height=\"24px\"viewBox=\"0 0 24 24\"\n",
              "       width=\"24px\">\n",
              "    <path d=\"M0 0h24v24H0V0z\" fill=\"none\"/>\n",
              "    <path d=\"M18.56 5.44l.94 2.06.94-2.06 2.06-.94-2.06-.94-.94-2.06-.94 2.06-2.06.94zm-11 1L8.5 8.5l.94-2.06 2.06-.94-2.06-.94L8.5 2.5l-.94 2.06-2.06.94zm10 10l.94 2.06.94-2.06 2.06-.94-2.06-.94-.94-2.06-.94 2.06-2.06.94z\"/><path d=\"M17.41 7.96l-1.37-1.37c-.4-.4-.92-.59-1.43-.59-.52 0-1.04.2-1.43.59L10.3 9.45l-7.72 7.72c-.78.78-.78 2.05 0 2.83L4 21.41c.39.39.9.59 1.41.59.51 0 1.02-.2 1.41-.59l7.78-7.78 2.81-2.81c.8-.78.8-2.07 0-2.86zM5.41 20L4 18.59l7.72-7.72 1.47 1.35L5.41 20z\"/>\n",
              "  </svg>\n",
              "      </button>\n",
              "      \n",
              "  <style>\n",
              "    .colab-df-container {\n",
              "      display:flex;\n",
              "      flex-wrap:wrap;\n",
              "      gap: 12px;\n",
              "    }\n",
              "\n",
              "    .colab-df-convert {\n",
              "      background-color: #E8F0FE;\n",
              "      border: none;\n",
              "      border-radius: 50%;\n",
              "      cursor: pointer;\n",
              "      display: none;\n",
              "      fill: #1967D2;\n",
              "      height: 32px;\n",
              "      padding: 0 0 0 0;\n",
              "      width: 32px;\n",
              "    }\n",
              "\n",
              "    .colab-df-convert:hover {\n",
              "      background-color: #E2EBFA;\n",
              "      box-shadow: 0px 1px 2px rgba(60, 64, 67, 0.3), 0px 1px 3px 1px rgba(60, 64, 67, 0.15);\n",
              "      fill: #174EA6;\n",
              "    }\n",
              "\n",
              "    [theme=dark] .colab-df-convert {\n",
              "      background-color: #3B4455;\n",
              "      fill: #D2E3FC;\n",
              "    }\n",
              "\n",
              "    [theme=dark] .colab-df-convert:hover {\n",
              "      background-color: #434B5C;\n",
              "      box-shadow: 0px 1px 3px 1px rgba(0, 0, 0, 0.15);\n",
              "      filter: drop-shadow(0px 1px 2px rgba(0, 0, 0, 0.3));\n",
              "      fill: #FFFFFF;\n",
              "    }\n",
              "  </style>\n",
              "\n",
              "      <script>\n",
              "        const buttonEl =\n",
              "          document.querySelector('#df-661ee5c3-225c-4995-a015-6e29b78ddb5b button.colab-df-convert');\n",
              "        buttonEl.style.display =\n",
              "          google.colab.kernel.accessAllowed ? 'block' : 'none';\n",
              "\n",
              "        async function convertToInteractive(key) {\n",
              "          const element = document.querySelector('#df-661ee5c3-225c-4995-a015-6e29b78ddb5b');\n",
              "          const dataTable =\n",
              "            await google.colab.kernel.invokeFunction('convertToInteractive',\n",
              "                                                     [key], {});\n",
              "          if (!dataTable) return;\n",
              "\n",
              "          const docLinkHtml = 'Like what you see? Visit the ' +\n",
              "            '<a target=\"_blank\" href=https://colab.research.google.com/notebooks/data_table.ipynb>data table notebook</a>'\n",
              "            + ' to learn more about interactive tables.';\n",
              "          element.innerHTML = '';\n",
              "          dataTable['output_type'] = 'display_data';\n",
              "          await google.colab.output.renderOutput(dataTable, element);\n",
              "          const docLink = document.createElement('div');\n",
              "          docLink.innerHTML = docLinkHtml;\n",
              "          element.appendChild(docLink);\n",
              "        }\n",
              "      </script>\n",
              "    </div>\n",
              "  </div>\n",
              "  "
            ]
          },
          "metadata": {},
          "execution_count": 35
        }
      ],
      "source": [
        "#READ CSV YANG UDAH DI DOWNLOAD DARI KAGGLE DAN DI UNZIP DI DRIVE\n",
        "\n",
        "df = pd.read_csv('/content/drive/MyDrive/review-lapak-sentiment/train.csv')\n",
        "df"
      ]
    },
    {
      "cell_type": "markdown",
      "metadata": {
        "id": "pWtGiakSW0B3"
      },
      "source": [
        "##PRE PROCESSING"
      ]
    },
    {
      "cell_type": "markdown",
      "metadata": {
        "id": "2QPwCzN9W38v"
      },
      "source": [
        "**Pre- Processing** yang dilakukan disini adalah untuk menyiapkan data yang digunakan, walau data diambil data yang sudah bersih tapi kita harus menyiapkan data agar sesuai dengan apa yang kita inginkan. Adapun proses **pre-processing** data adalah sebagai berikut."
      ]
    },
    {
      "cell_type": "code",
      "execution_count": null,
      "metadata": {
        "colab": {
          "base_uri": "https://localhost:8080/",
          "height": 519
        },
        "id": "f_2XwfQ31UVF",
        "outputId": "0377c533-2007-49d5-d5e1-d37cc392d3c3"
      },
      "outputs": [
        {
          "output_type": "execute_result",
          "data": {
            "text/plain": [
              "          id                                  header_review  \\\n",
              "0          0                   Mantap Barang Sesuai Pesanan   \n",
              "1          1                                   Mantaps.....   \n",
              "2          2                                  Barang Sesuai   \n",
              "3          3                                    Barang Asli   \n",
              "4          4                            Mmc  32 Gb. Samsung   \n",
              "...      ...                                            ...   \n",
              "96324  96324                                 Sesuai Pesanan   \n",
              "96325  96325                                     Biasa Saja   \n",
              "96326  96326                            Okeexxxxxxxxxxxxxxx   \n",
              "96327  96327  Barang Cepat Sampai Dan Bagus. Makasih Yaa...   \n",
              "96328  96328                                        Siiip.    \n",
              "\n",
              "                                   review_sangat_singkat  label  \n",
              "0                           mantap barang sesuai pesanan      1  \n",
              "1                                           Mantaps.....      1  \n",
              "2      Terima kasih buka lapaklapak barang sesuai den...      1  \n",
              "3                                            Barang asli      1  \n",
              "4      Packing  rapih  barang sesuai  pesanan  dan ce...      1  \n",
              "...                                                  ...    ...  \n",
              "96324         sudah sampai, blm dicoba,semoga bermanfaat      1  \n",
              "96325  barangnya sesuai dengan harganya thanks sda di...      1  \n",
              "96326                     okeexxxxkkkkkkkkkkkkkkkkkkssss      1  \n",
              "96327  Respon nya bagus ramah. Barang cpt sampai. Mak...      1  \n",
              "96328       Sesuai pesanan, mantap. . Recomended seller.      1  \n",
              "\n",
              "[96329 rows x 4 columns]"
            ],
            "text/html": [
              "\n",
              "  <div id=\"df-5123e7fe-1bb7-4449-bc17-c7bc7d90d4c5\">\n",
              "    <div class=\"colab-df-container\">\n",
              "      <div>\n",
              "<style scoped>\n",
              "    .dataframe tbody tr th:only-of-type {\n",
              "        vertical-align: middle;\n",
              "    }\n",
              "\n",
              "    .dataframe tbody tr th {\n",
              "        vertical-align: top;\n",
              "    }\n",
              "\n",
              "    .dataframe thead th {\n",
              "        text-align: right;\n",
              "    }\n",
              "</style>\n",
              "<table border=\"1\" class=\"dataframe\">\n",
              "  <thead>\n",
              "    <tr style=\"text-align: right;\">\n",
              "      <th></th>\n",
              "      <th>id</th>\n",
              "      <th>header_review</th>\n",
              "      <th>review_sangat_singkat</th>\n",
              "      <th>label</th>\n",
              "    </tr>\n",
              "  </thead>\n",
              "  <tbody>\n",
              "    <tr>\n",
              "      <th>0</th>\n",
              "      <td>0</td>\n",
              "      <td>Mantap Barang Sesuai Pesanan</td>\n",
              "      <td>mantap barang sesuai pesanan</td>\n",
              "      <td>1</td>\n",
              "    </tr>\n",
              "    <tr>\n",
              "      <th>1</th>\n",
              "      <td>1</td>\n",
              "      <td>Mantaps.....</td>\n",
              "      <td>Mantaps.....</td>\n",
              "      <td>1</td>\n",
              "    </tr>\n",
              "    <tr>\n",
              "      <th>2</th>\n",
              "      <td>2</td>\n",
              "      <td>Barang Sesuai</td>\n",
              "      <td>Terima kasih buka lapaklapak barang sesuai den...</td>\n",
              "      <td>1</td>\n",
              "    </tr>\n",
              "    <tr>\n",
              "      <th>3</th>\n",
              "      <td>3</td>\n",
              "      <td>Barang Asli</td>\n",
              "      <td>Barang asli</td>\n",
              "      <td>1</td>\n",
              "    </tr>\n",
              "    <tr>\n",
              "      <th>4</th>\n",
              "      <td>4</td>\n",
              "      <td>Mmc  32 Gb. Samsung</td>\n",
              "      <td>Packing  rapih  barang sesuai  pesanan  dan ce...</td>\n",
              "      <td>1</td>\n",
              "    </tr>\n",
              "    <tr>\n",
              "      <th>...</th>\n",
              "      <td>...</td>\n",
              "      <td>...</td>\n",
              "      <td>...</td>\n",
              "      <td>...</td>\n",
              "    </tr>\n",
              "    <tr>\n",
              "      <th>96324</th>\n",
              "      <td>96324</td>\n",
              "      <td>Sesuai Pesanan</td>\n",
              "      <td>sudah sampai, blm dicoba,semoga bermanfaat</td>\n",
              "      <td>1</td>\n",
              "    </tr>\n",
              "    <tr>\n",
              "      <th>96325</th>\n",
              "      <td>96325</td>\n",
              "      <td>Biasa Saja</td>\n",
              "      <td>barangnya sesuai dengan harganya thanks sda di...</td>\n",
              "      <td>1</td>\n",
              "    </tr>\n",
              "    <tr>\n",
              "      <th>96326</th>\n",
              "      <td>96326</td>\n",
              "      <td>Okeexxxxxxxxxxxxxxx</td>\n",
              "      <td>okeexxxxkkkkkkkkkkkkkkkkkkssss</td>\n",
              "      <td>1</td>\n",
              "    </tr>\n",
              "    <tr>\n",
              "      <th>96327</th>\n",
              "      <td>96327</td>\n",
              "      <td>Barang Cepat Sampai Dan Bagus. Makasih Yaa...</td>\n",
              "      <td>Respon nya bagus ramah. Barang cpt sampai. Mak...</td>\n",
              "      <td>1</td>\n",
              "    </tr>\n",
              "    <tr>\n",
              "      <th>96328</th>\n",
              "      <td>96328</td>\n",
              "      <td>Siiip.</td>\n",
              "      <td>Sesuai pesanan, mantap. . Recomended seller.</td>\n",
              "      <td>1</td>\n",
              "    </tr>\n",
              "  </tbody>\n",
              "</table>\n",
              "<p>96329 rows × 4 columns</p>\n",
              "</div>\n",
              "      <button class=\"colab-df-convert\" onclick=\"convertToInteractive('df-5123e7fe-1bb7-4449-bc17-c7bc7d90d4c5')\"\n",
              "              title=\"Convert this dataframe to an interactive table.\"\n",
              "              style=\"display:none;\">\n",
              "        \n",
              "  <svg xmlns=\"http://www.w3.org/2000/svg\" height=\"24px\"viewBox=\"0 0 24 24\"\n",
              "       width=\"24px\">\n",
              "    <path d=\"M0 0h24v24H0V0z\" fill=\"none\"/>\n",
              "    <path d=\"M18.56 5.44l.94 2.06.94-2.06 2.06-.94-2.06-.94-.94-2.06-.94 2.06-2.06.94zm-11 1L8.5 8.5l.94-2.06 2.06-.94-2.06-.94L8.5 2.5l-.94 2.06-2.06.94zm10 10l.94 2.06.94-2.06 2.06-.94-2.06-.94-.94-2.06-.94 2.06-2.06.94z\"/><path d=\"M17.41 7.96l-1.37-1.37c-.4-.4-.92-.59-1.43-.59-.52 0-1.04.2-1.43.59L10.3 9.45l-7.72 7.72c-.78.78-.78 2.05 0 2.83L4 21.41c.39.39.9.59 1.41.59.51 0 1.02-.2 1.41-.59l7.78-7.78 2.81-2.81c.8-.78.8-2.07 0-2.86zM5.41 20L4 18.59l7.72-7.72 1.47 1.35L5.41 20z\"/>\n",
              "  </svg>\n",
              "      </button>\n",
              "      \n",
              "  <style>\n",
              "    .colab-df-container {\n",
              "      display:flex;\n",
              "      flex-wrap:wrap;\n",
              "      gap: 12px;\n",
              "    }\n",
              "\n",
              "    .colab-df-convert {\n",
              "      background-color: #E8F0FE;\n",
              "      border: none;\n",
              "      border-radius: 50%;\n",
              "      cursor: pointer;\n",
              "      display: none;\n",
              "      fill: #1967D2;\n",
              "      height: 32px;\n",
              "      padding: 0 0 0 0;\n",
              "      width: 32px;\n",
              "    }\n",
              "\n",
              "    .colab-df-convert:hover {\n",
              "      background-color: #E2EBFA;\n",
              "      box-shadow: 0px 1px 2px rgba(60, 64, 67, 0.3), 0px 1px 3px 1px rgba(60, 64, 67, 0.15);\n",
              "      fill: #174EA6;\n",
              "    }\n",
              "\n",
              "    [theme=dark] .colab-df-convert {\n",
              "      background-color: #3B4455;\n",
              "      fill: #D2E3FC;\n",
              "    }\n",
              "\n",
              "    [theme=dark] .colab-df-convert:hover {\n",
              "      background-color: #434B5C;\n",
              "      box-shadow: 0px 1px 3px 1px rgba(0, 0, 0, 0.15);\n",
              "      filter: drop-shadow(0px 1px 2px rgba(0, 0, 0, 0.3));\n",
              "      fill: #FFFFFF;\n",
              "    }\n",
              "  </style>\n",
              "\n",
              "      <script>\n",
              "        const buttonEl =\n",
              "          document.querySelector('#df-5123e7fe-1bb7-4449-bc17-c7bc7d90d4c5 button.colab-df-convert');\n",
              "        buttonEl.style.display =\n",
              "          google.colab.kernel.accessAllowed ? 'block' : 'none';\n",
              "\n",
              "        async function convertToInteractive(key) {\n",
              "          const element = document.querySelector('#df-5123e7fe-1bb7-4449-bc17-c7bc7d90d4c5');\n",
              "          const dataTable =\n",
              "            await google.colab.kernel.invokeFunction('convertToInteractive',\n",
              "                                                     [key], {});\n",
              "          if (!dataTable) return;\n",
              "\n",
              "          const docLinkHtml = 'Like what you see? Visit the ' +\n",
              "            '<a target=\"_blank\" href=https://colab.research.google.com/notebooks/data_table.ipynb>data table notebook</a>'\n",
              "            + ' to learn more about interactive tables.';\n",
              "          element.innerHTML = '';\n",
              "          dataTable['output_type'] = 'display_data';\n",
              "          await google.colab.output.renderOutput(dataTable, element);\n",
              "          const docLink = document.createElement('div');\n",
              "          docLink.innerHTML = docLinkHtml;\n",
              "          element.appendChild(docLink);\n",
              "        }\n",
              "      </script>\n",
              "    </div>\n",
              "  </div>\n",
              "  "
            ]
          },
          "metadata": {},
          "execution_count": 36
        }
      ],
      "source": [
        "df"
      ]
    },
    {
      "cell_type": "code",
      "execution_count": null,
      "metadata": {
        "colab": {
          "base_uri": "https://localhost:8080/",
          "height": 424
        },
        "id": "NtOApckwMrkh",
        "outputId": "0ce83e83-aa1c-4e3a-c27d-be21d96ed0c1"
      },
      "outputs": [
        {
          "output_type": "execute_result",
          "data": {
            "text/plain": [
              "                                   review_sangat_singkat  label\n",
              "0                           mantap barang sesuai pesanan      1\n",
              "1                                           Mantaps.....      1\n",
              "2      Terima kasih buka lapaklapak barang sesuai den...      1\n",
              "3                                            Barang asli      1\n",
              "4      Packing  rapih  barang sesuai  pesanan  dan ce...      1\n",
              "...                                                  ...    ...\n",
              "96324         sudah sampai, blm dicoba,semoga bermanfaat      1\n",
              "96325  barangnya sesuai dengan harganya thanks sda di...      1\n",
              "96326                     okeexxxxkkkkkkkkkkkkkkkkkkssss      1\n",
              "96327  Respon nya bagus ramah. Barang cpt sampai. Mak...      1\n",
              "96328       Sesuai pesanan, mantap. . Recomended seller.      1\n",
              "\n",
              "[96329 rows x 2 columns]"
            ],
            "text/html": [
              "\n",
              "  <div id=\"df-e847dd84-2054-4c47-9763-9396cc63c298\">\n",
              "    <div class=\"colab-df-container\">\n",
              "      <div>\n",
              "<style scoped>\n",
              "    .dataframe tbody tr th:only-of-type {\n",
              "        vertical-align: middle;\n",
              "    }\n",
              "\n",
              "    .dataframe tbody tr th {\n",
              "        vertical-align: top;\n",
              "    }\n",
              "\n",
              "    .dataframe thead th {\n",
              "        text-align: right;\n",
              "    }\n",
              "</style>\n",
              "<table border=\"1\" class=\"dataframe\">\n",
              "  <thead>\n",
              "    <tr style=\"text-align: right;\">\n",
              "      <th></th>\n",
              "      <th>review_sangat_singkat</th>\n",
              "      <th>label</th>\n",
              "    </tr>\n",
              "  </thead>\n",
              "  <tbody>\n",
              "    <tr>\n",
              "      <th>0</th>\n",
              "      <td>mantap barang sesuai pesanan</td>\n",
              "      <td>1</td>\n",
              "    </tr>\n",
              "    <tr>\n",
              "      <th>1</th>\n",
              "      <td>Mantaps.....</td>\n",
              "      <td>1</td>\n",
              "    </tr>\n",
              "    <tr>\n",
              "      <th>2</th>\n",
              "      <td>Terima kasih buka lapaklapak barang sesuai den...</td>\n",
              "      <td>1</td>\n",
              "    </tr>\n",
              "    <tr>\n",
              "      <th>3</th>\n",
              "      <td>Barang asli</td>\n",
              "      <td>1</td>\n",
              "    </tr>\n",
              "    <tr>\n",
              "      <th>4</th>\n",
              "      <td>Packing  rapih  barang sesuai  pesanan  dan ce...</td>\n",
              "      <td>1</td>\n",
              "    </tr>\n",
              "    <tr>\n",
              "      <th>...</th>\n",
              "      <td>...</td>\n",
              "      <td>...</td>\n",
              "    </tr>\n",
              "    <tr>\n",
              "      <th>96324</th>\n",
              "      <td>sudah sampai, blm dicoba,semoga bermanfaat</td>\n",
              "      <td>1</td>\n",
              "    </tr>\n",
              "    <tr>\n",
              "      <th>96325</th>\n",
              "      <td>barangnya sesuai dengan harganya thanks sda di...</td>\n",
              "      <td>1</td>\n",
              "    </tr>\n",
              "    <tr>\n",
              "      <th>96326</th>\n",
              "      <td>okeexxxxkkkkkkkkkkkkkkkkkkssss</td>\n",
              "      <td>1</td>\n",
              "    </tr>\n",
              "    <tr>\n",
              "      <th>96327</th>\n",
              "      <td>Respon nya bagus ramah. Barang cpt sampai. Mak...</td>\n",
              "      <td>1</td>\n",
              "    </tr>\n",
              "    <tr>\n",
              "      <th>96328</th>\n",
              "      <td>Sesuai pesanan, mantap. . Recomended seller.</td>\n",
              "      <td>1</td>\n",
              "    </tr>\n",
              "  </tbody>\n",
              "</table>\n",
              "<p>96329 rows × 2 columns</p>\n",
              "</div>\n",
              "      <button class=\"colab-df-convert\" onclick=\"convertToInteractive('df-e847dd84-2054-4c47-9763-9396cc63c298')\"\n",
              "              title=\"Convert this dataframe to an interactive table.\"\n",
              "              style=\"display:none;\">\n",
              "        \n",
              "  <svg xmlns=\"http://www.w3.org/2000/svg\" height=\"24px\"viewBox=\"0 0 24 24\"\n",
              "       width=\"24px\">\n",
              "    <path d=\"M0 0h24v24H0V0z\" fill=\"none\"/>\n",
              "    <path d=\"M18.56 5.44l.94 2.06.94-2.06 2.06-.94-2.06-.94-.94-2.06-.94 2.06-2.06.94zm-11 1L8.5 8.5l.94-2.06 2.06-.94-2.06-.94L8.5 2.5l-.94 2.06-2.06.94zm10 10l.94 2.06.94-2.06 2.06-.94-2.06-.94-.94-2.06-.94 2.06-2.06.94z\"/><path d=\"M17.41 7.96l-1.37-1.37c-.4-.4-.92-.59-1.43-.59-.52 0-1.04.2-1.43.59L10.3 9.45l-7.72 7.72c-.78.78-.78 2.05 0 2.83L4 21.41c.39.39.9.59 1.41.59.51 0 1.02-.2 1.41-.59l7.78-7.78 2.81-2.81c.8-.78.8-2.07 0-2.86zM5.41 20L4 18.59l7.72-7.72 1.47 1.35L5.41 20z\"/>\n",
              "  </svg>\n",
              "      </button>\n",
              "      \n",
              "  <style>\n",
              "    .colab-df-container {\n",
              "      display:flex;\n",
              "      flex-wrap:wrap;\n",
              "      gap: 12px;\n",
              "    }\n",
              "\n",
              "    .colab-df-convert {\n",
              "      background-color: #E8F0FE;\n",
              "      border: none;\n",
              "      border-radius: 50%;\n",
              "      cursor: pointer;\n",
              "      display: none;\n",
              "      fill: #1967D2;\n",
              "      height: 32px;\n",
              "      padding: 0 0 0 0;\n",
              "      width: 32px;\n",
              "    }\n",
              "\n",
              "    .colab-df-convert:hover {\n",
              "      background-color: #E2EBFA;\n",
              "      box-shadow: 0px 1px 2px rgba(60, 64, 67, 0.3), 0px 1px 3px 1px rgba(60, 64, 67, 0.15);\n",
              "      fill: #174EA6;\n",
              "    }\n",
              "\n",
              "    [theme=dark] .colab-df-convert {\n",
              "      background-color: #3B4455;\n",
              "      fill: #D2E3FC;\n",
              "    }\n",
              "\n",
              "    [theme=dark] .colab-df-convert:hover {\n",
              "      background-color: #434B5C;\n",
              "      box-shadow: 0px 1px 3px 1px rgba(0, 0, 0, 0.15);\n",
              "      filter: drop-shadow(0px 1px 2px rgba(0, 0, 0, 0.3));\n",
              "      fill: #FFFFFF;\n",
              "    }\n",
              "  </style>\n",
              "\n",
              "      <script>\n",
              "        const buttonEl =\n",
              "          document.querySelector('#df-e847dd84-2054-4c47-9763-9396cc63c298 button.colab-df-convert');\n",
              "        buttonEl.style.display =\n",
              "          google.colab.kernel.accessAllowed ? 'block' : 'none';\n",
              "\n",
              "        async function convertToInteractive(key) {\n",
              "          const element = document.querySelector('#df-e847dd84-2054-4c47-9763-9396cc63c298');\n",
              "          const dataTable =\n",
              "            await google.colab.kernel.invokeFunction('convertToInteractive',\n",
              "                                                     [key], {});\n",
              "          if (!dataTable) return;\n",
              "\n",
              "          const docLinkHtml = 'Like what you see? Visit the ' +\n",
              "            '<a target=\"_blank\" href=https://colab.research.google.com/notebooks/data_table.ipynb>data table notebook</a>'\n",
              "            + ' to learn more about interactive tables.';\n",
              "          element.innerHTML = '';\n",
              "          dataTable['output_type'] = 'display_data';\n",
              "          await google.colab.output.renderOutput(dataTable, element);\n",
              "          const docLink = document.createElement('div');\n",
              "          docLink.innerHTML = docLinkHtml;\n",
              "          element.appendChild(docLink);\n",
              "        }\n",
              "      </script>\n",
              "    </div>\n",
              "  </div>\n",
              "  "
            ]
          },
          "metadata": {},
          "execution_count": 37
        }
      ],
      "source": [
        "#MENGHAPUS KOLOM YANG TIDAK DIPERLUKAN\n",
        "\n",
        "df.drop(columns=['id', 'header_review'], axis=0, inplace=True)\n",
        "df"
      ]
    },
    {
      "cell_type": "code",
      "execution_count": null,
      "metadata": {
        "colab": {
          "base_uri": "https://localhost:8080/",
          "height": 424
        },
        "id": "qx1Ai_HYbn5w",
        "outputId": "0fe19f8f-61d9-4649-8307-3564715cca7a"
      },
      "outputs": [
        {
          "output_type": "execute_result",
          "data": {
            "text/plain": [
              "                                              Text Tweet  Sentiment\n",
              "0                           mantap barang sesuai pesanan          1\n",
              "1                                           Mantaps.....          1\n",
              "2      Terima kasih buka lapaklapak barang sesuai den...          1\n",
              "3                                            Barang asli          1\n",
              "4      Packing  rapih  barang sesuai  pesanan  dan ce...          1\n",
              "...                                                  ...        ...\n",
              "96324         sudah sampai, blm dicoba,semoga bermanfaat          1\n",
              "96325  barangnya sesuai dengan harganya thanks sda di...          1\n",
              "96326                     okeexxxxkkkkkkkkkkkkkkkkkkssss          1\n",
              "96327  Respon nya bagus ramah. Barang cpt sampai. Mak...          1\n",
              "96328       Sesuai pesanan, mantap. . Recomended seller.          1\n",
              "\n",
              "[96329 rows x 2 columns]"
            ],
            "text/html": [
              "\n",
              "  <div id=\"df-d72f7bc6-7a0d-439e-a6b2-3165cb61c5e9\">\n",
              "    <div class=\"colab-df-container\">\n",
              "      <div>\n",
              "<style scoped>\n",
              "    .dataframe tbody tr th:only-of-type {\n",
              "        vertical-align: middle;\n",
              "    }\n",
              "\n",
              "    .dataframe tbody tr th {\n",
              "        vertical-align: top;\n",
              "    }\n",
              "\n",
              "    .dataframe thead th {\n",
              "        text-align: right;\n",
              "    }\n",
              "</style>\n",
              "<table border=\"1\" class=\"dataframe\">\n",
              "  <thead>\n",
              "    <tr style=\"text-align: right;\">\n",
              "      <th></th>\n",
              "      <th>Text Tweet</th>\n",
              "      <th>Sentiment</th>\n",
              "    </tr>\n",
              "  </thead>\n",
              "  <tbody>\n",
              "    <tr>\n",
              "      <th>0</th>\n",
              "      <td>mantap barang sesuai pesanan</td>\n",
              "      <td>1</td>\n",
              "    </tr>\n",
              "    <tr>\n",
              "      <th>1</th>\n",
              "      <td>Mantaps.....</td>\n",
              "      <td>1</td>\n",
              "    </tr>\n",
              "    <tr>\n",
              "      <th>2</th>\n",
              "      <td>Terima kasih buka lapaklapak barang sesuai den...</td>\n",
              "      <td>1</td>\n",
              "    </tr>\n",
              "    <tr>\n",
              "      <th>3</th>\n",
              "      <td>Barang asli</td>\n",
              "      <td>1</td>\n",
              "    </tr>\n",
              "    <tr>\n",
              "      <th>4</th>\n",
              "      <td>Packing  rapih  barang sesuai  pesanan  dan ce...</td>\n",
              "      <td>1</td>\n",
              "    </tr>\n",
              "    <tr>\n",
              "      <th>...</th>\n",
              "      <td>...</td>\n",
              "      <td>...</td>\n",
              "    </tr>\n",
              "    <tr>\n",
              "      <th>96324</th>\n",
              "      <td>sudah sampai, blm dicoba,semoga bermanfaat</td>\n",
              "      <td>1</td>\n",
              "    </tr>\n",
              "    <tr>\n",
              "      <th>96325</th>\n",
              "      <td>barangnya sesuai dengan harganya thanks sda di...</td>\n",
              "      <td>1</td>\n",
              "    </tr>\n",
              "    <tr>\n",
              "      <th>96326</th>\n",
              "      <td>okeexxxxkkkkkkkkkkkkkkkkkkssss</td>\n",
              "      <td>1</td>\n",
              "    </tr>\n",
              "    <tr>\n",
              "      <th>96327</th>\n",
              "      <td>Respon nya bagus ramah. Barang cpt sampai. Mak...</td>\n",
              "      <td>1</td>\n",
              "    </tr>\n",
              "    <tr>\n",
              "      <th>96328</th>\n",
              "      <td>Sesuai pesanan, mantap. . Recomended seller.</td>\n",
              "      <td>1</td>\n",
              "    </tr>\n",
              "  </tbody>\n",
              "</table>\n",
              "<p>96329 rows × 2 columns</p>\n",
              "</div>\n",
              "      <button class=\"colab-df-convert\" onclick=\"convertToInteractive('df-d72f7bc6-7a0d-439e-a6b2-3165cb61c5e9')\"\n",
              "              title=\"Convert this dataframe to an interactive table.\"\n",
              "              style=\"display:none;\">\n",
              "        \n",
              "  <svg xmlns=\"http://www.w3.org/2000/svg\" height=\"24px\"viewBox=\"0 0 24 24\"\n",
              "       width=\"24px\">\n",
              "    <path d=\"M0 0h24v24H0V0z\" fill=\"none\"/>\n",
              "    <path d=\"M18.56 5.44l.94 2.06.94-2.06 2.06-.94-2.06-.94-.94-2.06-.94 2.06-2.06.94zm-11 1L8.5 8.5l.94-2.06 2.06-.94-2.06-.94L8.5 2.5l-.94 2.06-2.06.94zm10 10l.94 2.06.94-2.06 2.06-.94-2.06-.94-.94-2.06-.94 2.06-2.06.94z\"/><path d=\"M17.41 7.96l-1.37-1.37c-.4-.4-.92-.59-1.43-.59-.52 0-1.04.2-1.43.59L10.3 9.45l-7.72 7.72c-.78.78-.78 2.05 0 2.83L4 21.41c.39.39.9.59 1.41.59.51 0 1.02-.2 1.41-.59l7.78-7.78 2.81-2.81c.8-.78.8-2.07 0-2.86zM5.41 20L4 18.59l7.72-7.72 1.47 1.35L5.41 20z\"/>\n",
              "  </svg>\n",
              "      </button>\n",
              "      \n",
              "  <style>\n",
              "    .colab-df-container {\n",
              "      display:flex;\n",
              "      flex-wrap:wrap;\n",
              "      gap: 12px;\n",
              "    }\n",
              "\n",
              "    .colab-df-convert {\n",
              "      background-color: #E8F0FE;\n",
              "      border: none;\n",
              "      border-radius: 50%;\n",
              "      cursor: pointer;\n",
              "      display: none;\n",
              "      fill: #1967D2;\n",
              "      height: 32px;\n",
              "      padding: 0 0 0 0;\n",
              "      width: 32px;\n",
              "    }\n",
              "\n",
              "    .colab-df-convert:hover {\n",
              "      background-color: #E2EBFA;\n",
              "      box-shadow: 0px 1px 2px rgba(60, 64, 67, 0.3), 0px 1px 3px 1px rgba(60, 64, 67, 0.15);\n",
              "      fill: #174EA6;\n",
              "    }\n",
              "\n",
              "    [theme=dark] .colab-df-convert {\n",
              "      background-color: #3B4455;\n",
              "      fill: #D2E3FC;\n",
              "    }\n",
              "\n",
              "    [theme=dark] .colab-df-convert:hover {\n",
              "      background-color: #434B5C;\n",
              "      box-shadow: 0px 1px 3px 1px rgba(0, 0, 0, 0.15);\n",
              "      filter: drop-shadow(0px 1px 2px rgba(0, 0, 0, 0.3));\n",
              "      fill: #FFFFFF;\n",
              "    }\n",
              "  </style>\n",
              "\n",
              "      <script>\n",
              "        const buttonEl =\n",
              "          document.querySelector('#df-d72f7bc6-7a0d-439e-a6b2-3165cb61c5e9 button.colab-df-convert');\n",
              "        buttonEl.style.display =\n",
              "          google.colab.kernel.accessAllowed ? 'block' : 'none';\n",
              "\n",
              "        async function convertToInteractive(key) {\n",
              "          const element = document.querySelector('#df-d72f7bc6-7a0d-439e-a6b2-3165cb61c5e9');\n",
              "          const dataTable =\n",
              "            await google.colab.kernel.invokeFunction('convertToInteractive',\n",
              "                                                     [key], {});\n",
              "          if (!dataTable) return;\n",
              "\n",
              "          const docLinkHtml = 'Like what you see? Visit the ' +\n",
              "            '<a target=\"_blank\" href=https://colab.research.google.com/notebooks/data_table.ipynb>data table notebook</a>'\n",
              "            + ' to learn more about interactive tables.';\n",
              "          element.innerHTML = '';\n",
              "          dataTable['output_type'] = 'display_data';\n",
              "          await google.colab.output.renderOutput(dataTable, element);\n",
              "          const docLink = document.createElement('div');\n",
              "          docLink.innerHTML = docLinkHtml;\n",
              "          element.appendChild(docLink);\n",
              "        }\n",
              "      </script>\n",
              "    </div>\n",
              "  </div>\n",
              "  "
            ]
          },
          "metadata": {},
          "execution_count": 38
        }
      ],
      "source": [
        "#PROSES RENAME NAMA KOLOM AGAR LEBIH MUDAH UNTUK MEMANGGILNYA\n",
        "\n",
        "df.rename(columns={'review_sangat_singkat': 'Text Tweet', 'label': 'Sentiment'}, inplace=True)\n",
        "df"
      ]
    },
    {
      "cell_type": "code",
      "execution_count": null,
      "metadata": {
        "colab": {
          "base_uri": "https://localhost:8080/",
          "height": 284
        },
        "id": "Zp8Zj0oeMxZx",
        "outputId": "540ade4f-c373-46d8-de1b-884d08b1bdcd"
      },
      "outputs": [
        {
          "output_type": "execute_result",
          "data": {
            "text/plain": [
              "<matplotlib.axes._subplots.AxesSubplot at 0x7ff2df29a150>"
            ]
          },
          "metadata": {},
          "execution_count": 39
        },
        {
          "output_type": "display_data",
          "data": {
            "text/plain": [
              "<Figure size 432x288 with 1 Axes>"
            ],
            "image/png": "[encoded data removed]"
          },
          "metadata": {
            "needs_background": "light"
          }
        }
      ],
      "source": [
        "#MENAMPILKAN BANYAK DATA DENGAN LABEL POSITIF DAN NEGATIF PADA DATASET\n",
        "df.plot(kind='hist')"
      ]
    },
    {
      "cell_type": "code",
      "execution_count": null,
      "metadata": {
        "colab": {
          "base_uri": "https://localhost:8080/"
        },
        "id": "fLRxuIICMyMU",
        "outputId": "c93743e0-f966-4ac7-ebb7-df0f75ca1595"
      },
      "outputs": [
        {
          "output_type": "execute_result",
          "data": {
            "text/plain": [
              "Text Tweet    object\n",
              "Sentiment      int64\n",
              "dtype: object"
            ]
          },
          "metadata": {},
          "execution_count": 40
        }
      ],
      "source": [
        "df.dtypes"
      ]
    },
    {
      "cell_type": "markdown",
      "metadata": {
        "id": "qj-X1YpqoAQ9"
      },
      "source": [
        "### Split Dataset"
      ]
    },
    {
      "cell_type": "markdown",
      "source": [
        "Proses **Split Dataset** ini adalah untuk memisahkan data yaitu data yang akan digunakan untuk training atau belajar maupun data yang akan digunakan untuk validasi atau data test. untuk perbandingan yang digunakan nantinya adalah 70% data untuk *Train* dan 30% untuk *Test*"
      ],
      "metadata": {
        "id": "lNz6CmsulTX3"
      }
    },
    {
      "cell_type": "code",
      "execution_count": null,
      "metadata": {
        "id": "0HonIZh1nuxt"
      },
      "outputs": [],
      "source": [
        "from sklearn.model_selection import train_test_split\n",
        "\n",
        "\n",
        "train_dataset, test_dataset = train_test_split(df, train_size=0.07, test_size=0.03, random_state=42, stratify=df['Sentiment'].values)\n",
        "# train_dataset, test_dataset = train_test_split(df_2, train_size=0.7, test_size=0.3, random_state=42, stratify=df_2['Sentiment'].values)\n",
        "\n",
        "x_train, x_valid, y_train, y_valid = train_test_split(train_dataset['Text Tweet'],\n",
        "                                                      train_dataset['Sentiment'],\n",
        "                                                      train_size = 0.7,\n",
        "                                                      random_state=42,\n",
        "                                                      stratify=train_dataset.Sentiment.values)\n",
        "\n",
        "# x_train, x_test, y_train, y_test = train_test_split(df['Text Tweet'], df['Sentiment'], train_size=0.75, random_state=42, stratify=df.Sentiment.values)"
      ]
    },
    {
      "cell_type": "code",
      "execution_count": null,
      "metadata": {
        "colab": {
          "base_uri": "https://localhost:8080/"
        },
        "id": "gl-JphnGvm8J",
        "outputId": "2e3980f6-fffe-457f-fe8a-60b948fa7eaf"
      },
      "outputs": [
        {
          "output_type": "stream",
          "name": "stdout",
          "text": [
            "x_train : (4720,)\n",
            "y_train : (4720,)\n",
            "x_valid : (2023,)\n",
            "y_valid : (2023,)\n"
          ]
        }
      ],
      "source": [
        "print(f'x_train : {x_train.shape}\\ny_train : {y_train.shape}')\n",
        "print(f'x_valid : {x_valid.shape}\\ny_valid : {y_valid.shape}')"
      ]
    },
    {
      "cell_type": "markdown",
      "metadata": {
        "id": "TXJFjSqVXbrA"
      },
      "source": [
        "###Shuffle isi Dataset"
      ]
    },
    {
      "cell_type": "markdown",
      "source": [
        "Proses **Shuffle isi dataset** adalah proses untuk mengacak data training dan data valid yang sudah dibagi sebelumnya dengan menggunakan tensorflow"
      ],
      "metadata": {
        "id": "YeslB3WhmM9G"
      }
    },
    {
      "cell_type": "code",
      "execution_count": null,
      "metadata": {
        "id": "tGyP5ERwXefP"
      },
      "outputs": [],
      "source": [
        "train_dataset = (tf.data.Dataset\n",
        "                 .from_tensor_slices((x_train, y_train))\n",
        "                 .shuffle(1000)\n",
        "                 .batch(32, drop_remainder=True)\n",
        "                 .prefetch(tf.data.experimental.AUTOTUNE))\n",
        "\n",
        "valid_dataset = (tf.data.Dataset\n",
        "                 .from_tensor_slices((x_valid, y_valid))\n",
        "                 .batch(32, drop_remainder=True)\n",
        "                 .cache()\n",
        "                 .prefetch(tf.data.experimental.AUTOTUNE))"
      ]
    },
    {
      "cell_type": "code",
      "execution_count": null,
      "metadata": {
        "colab": {
          "base_uri": "https://localhost:8080/"
        },
        "id": "N6uzRC_RZSnX",
        "outputId": "de564935-06ed-433c-eb26-30947561e074"
      },
      "outputs": [
        {
          "output_type": "stream",
          "name": "stdout",
          "text": [
            "147\n"
          ]
        }
      ],
      "source": [
        "print(len(train_dataset))"
      ]
    },
    {
      "cell_type": "code",
      "execution_count": null,
      "metadata": {
        "colab": {
          "base_uri": "https://localhost:8080/"
        },
        "id": "EbaLrFE_ZVlO",
        "outputId": "b53feddf-a522-4e79-eca0-31ba8d1a6dae"
      },
      "outputs": [
        {
          "output_type": "stream",
          "name": "stdout",
          "text": [
            "63\n"
          ]
        }
      ],
      "source": [
        "print(len(valid_dataset))"
      ]
    },
    {
      "cell_type": "code",
      "execution_count": null,
      "metadata": {
        "colab": {
          "base_uri": "https://localhost:8080/"
        },
        "id": "Jw-_TXrTYvun",
        "outputId": "7241d0b9-9b2b-4efa-bff2-444035e91f87"
      },
      "outputs": [
        {
          "output_type": "stream",
          "name": "stdout",
          "text": [
            "<class 'tensorflow.python.data.ops.dataset_ops.PrefetchDataset'>\n"
          ]
        }
      ],
      "source": [
        "print(type(train_dataset))"
      ]
    },
    {
      "cell_type": "markdown",
      "metadata": {
        "id": "JjI6NGOAw9kA"
      },
      "source": [
        "## Load **BERT** Model"
      ]
    },
    {
      "cell_type": "markdown",
      "source": [
        "Sebelumnya mohon maaf coach, kebawah sini akan semakin berat perjalanannya karena bakal lama trainingnya, jadi dimohon untuk runtime dengan GPU.\n",
        "\n",
        "Proses ini adalah proses untuk load **BERT** Model untuk modelnya sendiri ini saya mengambil contoh dari *https://tensorflow.org/text/tutorials/classify_text_with_bert*"
      ],
      "metadata": {
        "id": "tFSyrTnVnl0s"
      }
    },
    {
      "cell_type": "code",
      "execution_count": null,
      "metadata": {
        "cellView": "code",
        "colab": {
          "base_uri": "https://localhost:8080/"
        },
        "id": "1O4O23cSxBm3",
        "outputId": "49ca334f-82bc-40db-c71b-fd0ed9159b4c"
      },
      "outputs": [
        {
          "output_type": "stream",
          "name": "stdout",
          "text": [
            "BERT model selected           : https://tfhub.dev/tensorflow/bert_multi_cased_L-12_H-768_A-12/3\n",
            "Preprocess model auto-selected: https://tfhub.dev/tensorflow/bert_multi_cased_preprocess/3\n"
          ]
        }
      ],
      "source": [
        "bert_model_name = 'bert_multi_cased_L-12_H-768_A-12'\n",
        "\n",
        "map_name_to_handle = {\n",
        "    'bert_en_uncased_L-12_H-768_A-12':\n",
        "        'https://tfhub.dev/tensorflow/bert_en_uncased_L-12_H-768_A-12/3',\n",
        "    'bert_en_cased_L-12_H-768_A-12':\n",
        "        'https://tfhub.dev/tensorflow/bert_en_cased_L-12_H-768_A-12/3',\n",
        "    'bert_multi_cased_L-12_H-768_A-12':\n",
        "        'https://tfhub.dev/tensorflow/bert_multi_cased_L-12_H-768_A-12/3',\n",
        "    'small_bert/bert_en_uncased_L-2_H-128_A-2':\n",
        "        'https://tfhub.dev/tensorflow/small_bert/bert_en_uncased_L-2_H-128_A-2/1',\n",
        "    'small_bert/bert_en_uncased_L-2_H-256_A-4':\n",
        "        'https://tfhub.dev/tensorflow/small_bert/bert_en_uncased_L-2_H-256_A-4/1',\n",
        "    'small_bert/bert_en_uncased_L-2_H-512_A-8':\n",
        "        'https://tfhub.dev/tensorflow/small_bert/bert_en_uncased_L-2_H-512_A-8/1',\n",
        "    'small_bert/bert_en_uncased_L-2_H-768_A-12':\n",
        "        'https://tfhub.dev/tensorflow/small_bert/bert_en_uncased_L-2_H-768_A-12/1',\n",
        "    'small_bert/bert_en_uncased_L-4_H-128_A-2':\n",
        "        'https://tfhub.dev/tensorflow/small_bert/bert_en_uncased_L-4_H-128_A-2/1',\n",
        "    'small_bert/bert_en_uncased_L-4_H-256_A-4':\n",
        "        'https://tfhub.dev/tensorflow/small_bert/bert_en_uncased_L-4_H-256_A-4/1',\n",
        "    'small_bert/bert_en_uncased_L-4_H-512_A-8':\n",
        "        'https://tfhub.dev/tensorflow/small_bert/bert_en_uncased_L-4_H-512_A-8/1',\n",
        "    'small_bert/bert_en_uncased_L-4_H-768_A-12':\n",
        "        'https://tfhub.dev/tensorflow/small_bert/bert_en_uncased_L-4_H-768_A-12/1',\n",
        "    'small_bert/bert_en_uncased_L-6_H-128_A-2':\n",
        "        'https://tfhub.dev/tensorflow/small_bert/bert_en_uncased_L-6_H-128_A-2/1',\n",
        "    'small_bert/bert_en_uncased_L-6_H-256_A-4':\n",
        "        'https://tfhub.dev/tensorflow/small_bert/bert_en_uncased_L-6_H-256_A-4/1',\n",
        "    'small_bert/bert_en_uncased_L-6_H-512_A-8':\n",
        "        'https://tfhub.dev/tensorflow/small_bert/bert_en_uncased_L-6_H-512_A-8/1',\n",
        "    'small_bert/bert_en_uncased_L-6_H-768_A-12':\n",
        "        'https://tfhub.dev/tensorflow/small_bert/bert_en_uncased_L-6_H-768_A-12/1',\n",
        "    'small_bert/bert_en_uncased_L-8_H-128_A-2':\n",
        "        'https://tfhub.dev/tensorflow/small_bert/bert_en_uncased_L-8_H-128_A-2/1',\n",
        "    'small_bert/bert_en_uncased_L-8_H-256_A-4':\n",
        "        'https://tfhub.dev/tensorflow/small_bert/bert_en_uncased_L-8_H-256_A-4/1',\n",
        "    'small_bert/bert_en_uncased_L-8_H-512_A-8':\n",
        "        'https://tfhub.dev/tensorflow/small_bert/bert_en_uncased_L-8_H-512_A-8/1',\n",
        "    'small_bert/bert_en_uncased_L-8_H-768_A-12':\n",
        "        'https://tfhub.dev/tensorflow/small_bert/bert_en_uncased_L-8_H-768_A-12/1',\n",
        "    'small_bert/bert_en_uncased_L-10_H-128_A-2':\n",
        "        'https://tfhub.dev/tensorflow/small_bert/bert_en_uncased_L-10_H-128_A-2/1',\n",
        "    'small_bert/bert_en_uncased_L-10_H-256_A-4':\n",
        "        'https://tfhub.dev/tensorflow/small_bert/bert_en_uncased_L-10_H-256_A-4/1',\n",
        "    'small_bert/bert_en_uncased_L-10_H-512_A-8':\n",
        "        'https://tfhub.dev/tensorflow/small_bert/bert_en_uncased_L-10_H-512_A-8/1',\n",
        "    'small_bert/bert_en_uncased_L-10_H-768_A-12':\n",
        "        'https://tfhub.dev/tensorflow/small_bert/bert_en_uncased_L-10_H-768_A-12/1',\n",
        "    'small_bert/bert_en_uncased_L-12_H-128_A-2':\n",
        "        'https://tfhub.dev/tensorflow/small_bert/bert_en_uncased_L-12_H-128_A-2/1',\n",
        "    'small_bert/bert_en_uncased_L-12_H-256_A-4':\n",
        "        'https://tfhub.dev/tensorflow/small_bert/bert_en_uncased_L-12_H-256_A-4/1',\n",
        "    'small_bert/bert_en_uncased_L-12_H-512_A-8':\n",
        "        'https://tfhub.dev/tensorflow/small_bert/bert_en_uncased_L-12_H-512_A-8/1',\n",
        "    'small_bert/bert_en_uncased_L-12_H-768_A-12':\n",
        "        'https://tfhub.dev/tensorflow/small_bert/bert_en_uncased_L-12_H-768_A-12/1',\n",
        "    'albert_en_base':\n",
        "        'https://tfhub.dev/tensorflow/albert_en_base/2',\n",
        "    'electra_small':\n",
        "        'https://tfhub.dev/google/electra_small/2',\n",
        "    'electra_base':\n",
        "        'https://tfhub.dev/google/electra_base/2',\n",
        "    'experts_pubmed':\n",
        "        'https://tfhub.dev/google/experts/bert/pubmed/2',\n",
        "    'experts_wiki_books':\n",
        "        'https://tfhub.dev/google/experts/bert/wiki_books/2',\n",
        "    'talking-heads_base':\n",
        "        'https://tfhub.dev/tensorflow/talkheads_ggelu_bert_en_base/1',\n",
        "}\n",
        "\n",
        "map_model_to_preprocess = {\n",
        "    'bert_en_uncased_L-12_H-768_A-12':\n",
        "        'https://tfhub.dev/tensorflow/bert_en_uncased_preprocess/3',\n",
        "    'bert_en_cased_L-12_H-768_A-12':\n",
        "        'https://tfhub.dev/tensorflow/bert_en_cased_preprocess/3',\n",
        "    'small_bert/bert_en_uncased_L-2_H-128_A-2':\n",
        "        'https://tfhub.dev/tensorflow/bert_en_uncased_preprocess/3',\n",
        "    'small_bert/bert_en_uncased_L-2_H-256_A-4':\n",
        "        'https://tfhub.dev/tensorflow/bert_en_uncased_preprocess/3',\n",
        "    'small_bert/bert_en_uncased_L-2_H-512_A-8':\n",
        "        'https://tfhub.dev/tensorflow/bert_en_uncased_preprocess/3',\n",
        "    'small_bert/bert_en_uncased_L-2_H-768_A-12':\n",
        "        'https://tfhub.dev/tensorflow/bert_en_uncased_preprocess/3',\n",
        "    'small_bert/bert_en_uncased_L-4_H-128_A-2':\n",
        "        'https://tfhub.dev/tensorflow/bert_en_uncased_preprocess/3',\n",
        "    'small_bert/bert_en_uncased_L-4_H-256_A-4':\n",
        "        'https://tfhub.dev/tensorflow/bert_en_uncased_preprocess/3',\n",
        "    'small_bert/bert_en_uncased_L-4_H-512_A-8':\n",
        "        'https://tfhub.dev/tensorflow/bert_en_uncased_preprocess/3',\n",
        "    'small_bert/bert_en_uncased_L-4_H-768_A-12':\n",
        "        'https://tfhub.dev/tensorflow/bert_en_uncased_preprocess/3',\n",
        "    'small_bert/bert_en_uncased_L-6_H-128_A-2':\n",
        "        'https://tfhub.dev/tensorflow/bert_en_uncased_preprocess/3',\n",
        "    'small_bert/bert_en_uncased_L-6_H-256_A-4':\n",
        "        'https://tfhub.dev/tensorflow/bert_en_uncased_preprocess/3',\n",
        "    'small_bert/bert_en_uncased_L-6_H-512_A-8':\n",
        "        'https://tfhub.dev/tensorflow/bert_en_uncased_preprocess/3',\n",
        "    'small_bert/bert_en_uncased_L-6_H-768_A-12':\n",
        "        'https://tfhub.dev/tensorflow/bert_en_uncased_preprocess/3',\n",
        "    'small_bert/bert_en_uncased_L-8_H-128_A-2':\n",
        "        'https://tfhub.dev/tensorflow/bert_en_uncased_preprocess/3',\n",
        "    'small_bert/bert_en_uncased_L-8_H-256_A-4':\n",
        "        'https://tfhub.dev/tensorflow/bert_en_uncased_preprocess/3',\n",
        "    'small_bert/bert_en_uncased_L-8_H-512_A-8':\n",
        "        'https://tfhub.dev/tensorflow/bert_en_uncased_preprocess/3',\n",
        "    'small_bert/bert_en_uncased_L-8_H-768_A-12':\n",
        "        'https://tfhub.dev/tensorflow/bert_en_uncased_preprocess/3',\n",
        "    'small_bert/bert_en_uncased_L-10_H-128_A-2':\n",
        "        'https://tfhub.dev/tensorflow/bert_en_uncased_preprocess/3',\n",
        "    'small_bert/bert_en_uncased_L-10_H-256_A-4':\n",
        "        'https://tfhub.dev/tensorflow/bert_en_uncased_preprocess/3',\n",
        "    'small_bert/bert_en_uncased_L-10_H-512_A-8':\n",
        "        'https://tfhub.dev/tensorflow/bert_en_uncased_preprocess/3',\n",
        "    'small_bert/bert_en_uncased_L-10_H-768_A-12':\n",
        "        'https://tfhub.dev/tensorflow/bert_en_uncased_preprocess/3',\n",
        "    'small_bert/bert_en_uncased_L-12_H-128_A-2':\n",
        "        'https://tfhub.dev/tensorflow/bert_en_uncased_preprocess/3',\n",
        "    'small_bert/bert_en_uncased_L-12_H-256_A-4':\n",
        "        'https://tfhub.dev/tensorflow/bert_en_uncased_preprocess/3',\n",
        "    'small_bert/bert_en_uncased_L-12_H-512_A-8':\n",
        "        'https://tfhub.dev/tensorflow/bert_en_uncased_preprocess/3',\n",
        "    'small_bert/bert_en_uncased_L-12_H-768_A-12':\n",
        "        'https://tfhub.dev/tensorflow/bert_en_uncased_preprocess/3',\n",
        "    'bert_multi_cased_L-12_H-768_A-12':\n",
        "        'https://tfhub.dev/tensorflow/bert_multi_cased_preprocess/3',\n",
        "    'albert_en_base':\n",
        "        'https://tfhub.dev/tensorflow/albert_en_preprocess/3',\n",
        "    'electra_small':\n",
        "        'https://tfhub.dev/tensorflow/bert_en_uncased_preprocess/3',\n",
        "    'electra_base':\n",
        "        'https://tfhub.dev/tensorflow/bert_en_uncased_preprocess/3',\n",
        "    'experts_pubmed':\n",
        "        'https://tfhub.dev/tensorflow/bert_en_uncased_preprocess/3',\n",
        "    'experts_wiki_books':\n",
        "        'https://tfhub.dev/tensorflow/bert_en_uncased_preprocess/3',\n",
        "    'talking-heads_base':\n",
        "        'https://tfhub.dev/tensorflow/bert_en_uncased_preprocess/3',\n",
        "}\n",
        "\n",
        "tfhub_handle_encoder = map_name_to_handle[bert_model_name]\n",
        "tfhub_handle_preprocess = map_model_to_preprocess[bert_model_name]\n",
        "\n",
        "print(f'BERT model selected           : {tfhub_handle_encoder}')\n",
        "print(f'Preprocess model auto-selected: {tfhub_handle_preprocess}')"
      ]
    },
    {
      "cell_type": "markdown",
      "metadata": {
        "id": "UA8pU3wbxtqY"
      },
      "source": [
        "## Preprocessing Model"
      ]
    },
    {
      "cell_type": "markdown",
      "source": [
        "Proses **Pre-processing model** adalah melakukan proses pre-pro pada model untuk menyiapkan model untuk membangun model yang sebenarnya."
      ],
      "metadata": {
        "id": "FHMo41hrpAdF"
      }
    },
    {
      "cell_type": "code",
      "execution_count": null,
      "metadata": {
        "id": "zlrDffOnxvyQ"
      },
      "outputs": [],
      "source": [
        "bert_preprocess_model = hub.KerasLayer(tfhub_handle_preprocess)"
      ]
    },
    {
      "cell_type": "code",
      "execution_count": null,
      "metadata": {
        "colab": {
          "base_uri": "https://localhost:8080/"
        },
        "id": "rf7bQ2Phxyhn",
        "outputId": "fabc02b1-a116-42c3-d907-7f4ac2ce4391"
      },
      "outputs": [
        {
          "output_type": "stream",
          "name": "stdout",
          "text": [
            "Keys       : ['input_mask', 'input_type_ids', 'input_word_ids']\n",
            "Shape      : (1, 128)\n",
            "Word Ids   : [  101 11162 10592 20365 56332 10251   106   102     0     0     0     0]\n",
            "Input Mask : [1 1 1 1 1 1 1 1 0 0 0 0]\n",
            "Type Ids   : [0 0 0 0 0 0 0 0 0 0 0 0]\n"
          ]
        }
      ],
      "source": [
        "text_test = ['Film ini sangat bagus!']\n",
        "text_preprocessed = bert_preprocess_model(text_test)\n",
        "\n",
        "print(f'Keys       : {list(text_preprocessed.keys())}')\n",
        "print(f'Shape      : {text_preprocessed[\"input_word_ids\"].shape}')\n",
        "print(f'Word Ids   : {text_preprocessed[\"input_word_ids\"][0, :12]}')\n",
        "print(f'Input Mask : {text_preprocessed[\"input_mask\"][0, :12]}')\n",
        "print(f'Type Ids   : {text_preprocessed[\"input_type_ids\"][0, :12]}')"
      ]
    },
    {
      "cell_type": "markdown",
      "metadata": {
        "id": "T_cvKg2Sx91Y"
      },
      "source": [
        "## Using the BERT Model"
      ]
    },
    {
      "cell_type": "code",
      "execution_count": null,
      "metadata": {
        "id": "emUWcBQjx8mG"
      },
      "outputs": [],
      "source": [
        "bert_model = hub.KerasLayer(tfhub_handle_encoder)"
      ]
    },
    {
      "cell_type": "code",
      "execution_count": null,
      "metadata": {
        "colab": {
          "base_uri": "https://localhost:8080/"
        },
        "id": "pv76XX1VyCYa",
        "outputId": "6c50f743-66a6-42d5-df4c-75f2ff3459ee"
      },
      "outputs": [
        {
          "output_type": "stream",
          "name": "stdout",
          "text": [
            "Loaded BERT: https://tfhub.dev/tensorflow/bert_multi_cased_L-12_H-768_A-12/3\n",
            "Pooled Outputs Shape:(1, 768)\n",
            "Pooled Outputs Values:[ 0.45931336 -0.13041389  0.15607256 -0.19542891 -0.22146507  0.3212837\n",
            "  0.16080926  0.26015863 -0.55123734  0.31767276  0.11830855 -0.19269656]\n",
            "Sequence Outputs Shape:(1, 128, 768)\n",
            "Sequence Outputs Values:[[-0.06184591 -0.2341877  -0.15245855 ...  0.49455866  0.35491356\n",
            "   0.3808462 ]\n",
            " [ 0.04715431 -0.55776024  0.1263954  ...  0.7607765   0.43623546\n",
            "   0.65822023]\n",
            " [ 0.03039942 -0.72707474  0.04525122 ...  0.79153645  0.23796399\n",
            "   0.85483354]\n",
            " ...\n",
            " [-0.2332578  -0.5979481  -0.07628432 ...  0.6851059   0.4821799\n",
            "   0.627151  ]\n",
            " [-0.1760354  -0.77929723 -0.03565159 ...  0.6465674   0.37006482\n",
            "   0.5649848 ]\n",
            " [-0.17922145 -0.7920646  -0.02997091 ...  0.63858473  0.36413416\n",
            "   0.5588796 ]]\n"
          ]
        }
      ],
      "source": [
        "bert_results = bert_model(text_preprocessed)\n",
        "\n",
        "print(f'Loaded BERT: {tfhub_handle_encoder}')\n",
        "print(f'Pooled Outputs Shape:{bert_results[\"pooled_output\"].shape}')\n",
        "print(f'Pooled Outputs Values:{bert_results[\"pooled_output\"][0, :12]}')\n",
        "print(f'Sequence Outputs Shape:{bert_results[\"sequence_output\"].shape}')\n",
        "print(f'Sequence Outputs Values:{bert_results[\"sequence_output\"][0, :12]}')"
      ]
    },
    {
      "cell_type": "markdown",
      "metadata": {
        "id": "UZJk7fspyQNJ"
      },
      "source": [
        "## Define Model"
      ]
    },
    {
      "cell_type": "markdown",
      "source": [
        "proses **Define Model** ini adalah proses untuk mendefinisikan model yang akan digunakan menggunakan keras yang digunakan untuk membuat model Neural Network."
      ],
      "metadata": {
        "id": "tsyKL-fGqsRB"
      }
    },
    {
      "cell_type": "code",
      "execution_count": null,
      "metadata": {
        "id": "gzvWqiy3ySE-"
      },
      "outputs": [],
      "source": [
        "def build_classifier_model():\n",
        "  text_input = tf.keras.layers.Input(shape=(), dtype=tf.string, name='text')\n",
        "  preprocessing_layer = hub.KerasLayer(tfhub_handle_preprocess, name='preprocessing')\n",
        "  encoder_inputs = preprocessing_layer(text_input)\n",
        "  encoder = hub.KerasLayer(tfhub_handle_encoder, trainable=True, name='BERT_encoder')\n",
        "  outputs = encoder(encoder_inputs)\n",
        "  net = outputs['pooled_output']\n",
        "  net = tf.keras.layers.Dropout(0.1)(net)\n",
        "  net = tf.keras.layers.Dense(1, activation=None, name='classifier')(net)\n",
        "  return tf.keras.Model(text_input, net)"
      ]
    },
    {
      "cell_type": "code",
      "execution_count": null,
      "metadata": {
        "colab": {
          "base_uri": "https://localhost:8080/"
        },
        "id": "9oZlHGtDyWjQ",
        "outputId": "42acab5d-5d09-481a-efe4-59592c995716"
      },
      "outputs": [
        {
          "output_type": "stream",
          "name": "stdout",
          "text": [
            "tf.Tensor([[0.56807303]], shape=(1, 1), dtype=float32)\n"
          ]
        }
      ],
      "source": [
        "classifier_model = build_classifier_model()\n",
        "bert_raw_result = classifier_model(tf.constant(text_test))\n",
        "print(tf.sigmoid(bert_raw_result))"
      ]
    },
    {
      "cell_type": "code",
      "execution_count": null,
      "metadata": {
        "colab": {
          "base_uri": "https://localhost:8080/",
          "height": 466
        },
        "id": "UaDabTD_yYH1",
        "outputId": "71d1fb9b-7a66-46d0-8b8a-353fca9b55cd"
      },
      "outputs": [
        {
          "output_type": "execute_result",
          "data": {
            "text/plain": [
              "<IPython.core.display.Image object>"
            ],
            "image/png": "[encoded data removed]"
          },
          "metadata": {},
          "execution_count": 54
        }
      ],
      "source": [
        "tf.keras.utils.plot_model(classifier_model)"
      ]
    },
    {
      "cell_type": "markdown",
      "metadata": {
        "id": "kcDqGvW0ypzg"
      },
      "source": [
        "## Model Training"
      ]
    },
    {
      "cell_type": "markdown",
      "source": [
        "Adventure will be start in here coach.\n",
        "\n",
        "Proses **model training** ini adalah untuk training data menggunakan model **BERT** yang sudah dibuat."
      ],
      "metadata": {
        "id": "dyr6_bIOsnJm"
      }
    },
    {
      "cell_type": "code",
      "execution_count": null,
      "metadata": {
        "id": "-ORMywZjyrYm"
      },
      "outputs": [],
      "source": [
        "loss = tf.keras.losses.BinaryCrossentropy(from_logits=True)\n",
        "metrics = tf.metrics.BinaryAccuracy()"
      ]
    },
    {
      "cell_type": "code",
      "execution_count": null,
      "metadata": {
        "id": "zXNMZNjAysWI"
      },
      "outputs": [],
      "source": [
        "epochs = 2\n",
        "steps_per_epoch = tf.data.experimental.cardinality(train_dataset).numpy()\n",
        "num_train_steps = steps_per_epoch * epochs\n",
        "num_warmup_steps = int(0.1*num_train_steps)\n",
        "\n",
        "init_lr = 3e-5\n",
        "optimizer = optimization.create_optimizer(init_lr=init_lr,\n",
        "                                          num_train_steps=num_train_steps,\n",
        "                                          num_warmup_steps=num_warmup_steps,\n",
        "                                          optimizer_type='adamw')\n",
        "\n",
        "# untuk epochnya digunakan 2 karena pada proses sebelumnya menggunakan akun\n",
        "# google saya (oka dewi) yang satu lagi, dan yuda epoch jauh diatas 1.75 terjadi\n",
        "# overfitting jadinya saya pilih yg terdekat"
      ]
    },
    {
      "cell_type": "code",
      "execution_count": null,
      "metadata": {
        "id": "G08kGYBMyuAU"
      },
      "outputs": [],
      "source": [
        "classifier_model.compile(optimizer=optimizer,\n",
        "                         loss=loss,\n",
        "                         metrics=metrics)"
      ]
    },
    {
      "cell_type": "code",
      "execution_count": null,
      "metadata": {
        "colab": {
          "base_uri": "https://localhost:8080/"
        },
        "id": "lIVmUhytzTZI",
        "outputId": "99833524-e4ce-4262-a8d1-963788439db0"
      },
      "outputs": [
        {
          "output_type": "stream",
          "name": "stdout",
          "text": [
            "Training model with https://tfhub.dev/tensorflow/bert_multi_cased_L-12_H-768_A-12/3\n",
            "Epoch 1/2\n",
            "147/147 [==============================] - 312s 2s/step - loss: 0.3485 - binary_accuracy: 0.8374 - val_loss: 0.2601 - val_binary_accuracy: 0.8760\n",
            "Epoch 2/2\n",
            "147/147 [==============================] - 287s 2s/step - loss: 0.2265 - binary_accuracy: 0.8997 - val_loss: 0.2683 - val_binary_accuracy: 0.8785\n"
          ]
        }
      ],
      "source": [
        "# semangat coach :')\n",
        "\n",
        "print(f'Training model with {tfhub_handle_encoder}')\n",
        "history = classifier_model.fit(x=train_dataset,\n",
        "                               validation_data=valid_dataset,\n",
        "                               epochs=epochs)"
      ]
    },
    {
      "cell_type": "markdown",
      "metadata": {
        "id": "Hm1zK9sa84Ay"
      },
      "source": [
        "# Evaluate the Model"
      ]
    },
    {
      "cell_type": "markdown",
      "source": [
        "proses ini dilakukan untuk mengevaluasi model yang sudah dibuat. apakah model yang sudah dibuat tersebut good fit, atau malah overfitting maupun underfitting."
      ],
      "metadata": {
        "id": "x7pcxXvPxs--"
      }
    },
    {
      "cell_type": "code",
      "execution_count": null,
      "metadata": {
        "colab": {
          "base_uri": "https://localhost:8080/",
          "height": 441
        },
        "id": "Po1j-5z1-fyi",
        "outputId": "61b2cf83-b7a8-45c6-e21f-685ab8ce7b3f"
      },
      "outputs": [
        {
          "output_type": "stream",
          "name": "stdout",
          "text": [
            "dict_keys(['loss', 'binary_accuracy', 'val_loss', 'val_binary_accuracy'])\n"
          ]
        },
        {
          "output_type": "execute_result",
          "data": {
            "text/plain": [
              "<matplotlib.legend.Legend at 0x7ff2d58135d0>"
            ]
          },
          "metadata": {},
          "execution_count": 65
        },
        {
          "output_type": "display_data",
          "data": {
            "text/plain": [
              "<Figure size 720x432 with 2 Axes>"
            ],
            "image/png": "[encoded data removed]"
          },
          "metadata": {
            "needs_background": "light"
          }
        }
      ],
      "source": [
        "history_dict = history.history\n",
        "print(history_dict.keys())\n",
        "\n",
        "acc = history_dict['binary_accuracy']\n",
        "val_acc = history_dict['val_binary_accuracy']\n",
        "loss = history_dict['loss']\n",
        "val_loss = history_dict['val_loss']\n",
        "\n",
        "epochs = range(1, len(acc) + 1)\n",
        "fig = plt.figure(figsize=(10, 6))\n",
        "fig.tight_layout()\n",
        "\n",
        "plt.subplot(2, 1, 1)\n",
        "# \"bo\" is for \"blue dot\"\n",
        "plt.plot(epochs, loss, 'r', label='Training loss')\n",
        "# b is for \"solid blue line\"\n",
        "plt.plot(epochs, val_loss, 'b', label='Validation loss')\n",
        "plt.title('Training and validation loss')\n",
        "# plt.xlabel('Epochs')\n",
        "plt.ylabel('Loss')\n",
        "plt.legend()\n",
        "\n",
        "plt.subplot(2, 1, 2)\n",
        "plt.plot(epochs, acc, 'r', label='Training acc')\n",
        "plt.plot(epochs, val_acc, 'b', label='Validation acc')\n",
        "plt.title('Training and validation accuracy')\n",
        "plt.xlabel('Epochs')\n",
        "plt.ylabel('Accuracy')\n",
        "plt.legend(loc='lower right')"
      ]
    },
    {
      "cell_type": "markdown",
      "source": [
        "pada hasil evaluasi model yang sudah dibuat ini terjadi overfitting karena harusnya epochnya berhenti di 1,75 tapi karena epoch tidak boleh float sehingga digunakan epoch 2 saja. dan jika jauh lebih besar misalnya 5 epochs akan tetap overfitting"
      ],
      "metadata": {
        "id": "83wXtGykx8oe"
      }
    },
    {
      "cell_type": "markdown",
      "source": [
        "berikutnya adalah proses untuk cek akurasi dan loss pada saat epoch tadi. dapat dilihat dibawah ini jika akurasinya sebesar **93%**"
      ],
      "metadata": {
        "id": "nX_Nir23y8ML"
      }
    },
    {
      "cell_type": "code",
      "execution_count": null,
      "metadata": {
        "colab": {
          "base_uri": "https://localhost:8080/"
        },
        "id": "txdQnbgN_YxB",
        "outputId": "42d391e8-1530-4b12-99f6-3fc44a643dce"
      },
      "outputs": [
        {
          "output_type": "stream",
          "name": "stdout",
          "text": [
            "147/147 [==============================] - 90s 610ms/step - loss: 0.1635 - binary_accuracy: 0.9301\n",
            "Loss: 0.16351623833179474\n",
            "Accuracy: 0.930059552192688\n"
          ]
        }
      ],
      "source": [
        "loss, accuracy = classifier_model.evaluate(train_dataset)\n",
        "\n",
        "print(f'Loss: {loss}')\n",
        "print(f'Accuracy: {accuracy}')"
      ]
    },
    {
      "cell_type": "markdown",
      "metadata": {
        "id": "fASepHI2DrYJ"
      },
      "source": [
        "# Export for inference"
      ]
    },
    {
      "cell_type": "markdown",
      "source": [
        "Proses ini adalah untuk mengecek sentimen dari kata-kata manakah yang termasuk sentimen negatif maupun positif. Adapun sesuai yang sudah dipelajari tadi"
      ],
      "metadata": {
        "id": "x1E6XKPEzs75"
      }
    },
    {
      "cell_type": "code",
      "execution_count": null,
      "metadata": {
        "colab": {
          "base_uri": "https://localhost:8080/"
        },
        "id": "DnWhtGE5Dp4h",
        "outputId": "16075534-e874-4d00-ccc8-795840adc10b"
      },
      "outputs": [
        {
          "output_type": "stream",
          "name": "stderr",
          "text": [
            "WARNING:absl:Found untraced functions such as restored_function_body, restored_function_body, restored_function_body, restored_function_body, restored_function_body while saving (showing 5 of 364). These functions will not be directly callable after loading.\n"
          ]
        }
      ],
      "source": [
        "dataset_name = 'ripiu'\n",
        "saved_model_path = './{}_bert'.format(dataset_name.replace('/', '_'))\n",
        "\n",
        "classifier_model.save(saved_model_path, include_optimizer=False)"
      ]
    },
    {
      "cell_type": "markdown",
      "source": [
        "jangan lupa save model biar tidak hilang xixixi :)"
      ],
      "metadata": {
        "id": "n6Q4YEsL0P5E"
      }
    },
    {
      "cell_type": "code",
      "execution_count": null,
      "metadata": {
        "id": "iAolT20tDvrJ"
      },
      "outputs": [],
      "source": [
        "reloaded_model = tf.saved_model.load(saved_model_path)"
      ]
    },
    {
      "cell_type": "code",
      "execution_count": null,
      "metadata": {
        "colab": {
          "base_uri": "https://localhost:8080/"
        },
        "id": "orfY4bMoDz51",
        "outputId": "f2d4ee69-be70-4be8-8330-248fe7644d71"
      },
      "outputs": [
        {
          "output_type": "stream",
          "name": "stdout",
          "text": [
            "Results from the saved model:\n",
            "input: Suka banget sama filmnya       : score: 0.988196\n",
            "input: Jelek ah gak suka              : score: 0.394236\n",
            "input: Aku suka filmnya, di beberapa bagian keren. tapi kayaknya masih bisa dikembangkan : score: 0.988900\n",
            "\n",
            "Results from the model in memory:\n",
            "input: Suka banget sama filmnya       : score: 0.988196\n",
            "input: Jelek ah gak suka              : score: 0.394236\n",
            "input: Aku suka filmnya, di beberapa bagian keren. tapi kayaknya masih bisa dikembangkan : score: 0.988900\n",
            "\n"
          ]
        }
      ],
      "source": [
        "def print_my_examples(inputs, results):\n",
        "  result_for_printing = \\\n",
        "    [f'input: {inputs[i]:<30} : score: {results[i][0]:.6f}'\n",
        "                         for i in range(len(inputs))]\n",
        "  print(*result_for_printing, sep='\\n')\n",
        "  print()\n",
        "\n",
        "\n",
        "examples = [\n",
        "    'Suka banget sama filmnya',\n",
        "    'Jelek ah gak suka',\n",
        "    'Aku suka filmnya, di beberapa bagian keren. tapi kayaknya masih bisa dikembangkan'\n",
        "]\n",
        "\n",
        "reloaded_results = tf.sigmoid(reloaded_model(tf.constant(examples)))\n",
        "original_results = tf.sigmoid(classifier_model(tf.constant(examples)))\n",
        "\n",
        "print('Results from the saved model:')\n",
        "print_my_examples(examples, reloaded_results)\n",
        "print('Results from the model in memory:')\n",
        "print_my_examples(examples, original_results)"
      ]
    },
    {
      "cell_type": "code",
      "execution_count": null,
      "metadata": {
        "colab": {
          "base_uri": "https://localhost:8080/"
        },
        "id": "BaH57ztadCQ7",
        "outputId": "61daa8ef-22c3-4abf-978d-dadf172c5de6"
      },
      "outputs": [
        {
          "output_type": "stream",
          "name": "stdout",
          "text": [
            "Score : 0.984372\n",
            "Label : Positif\n",
            "\n",
            "Score : 0.157818\n",
            "Label : Negatif\n",
            "\n",
            "Score : 0.446011\n",
            "Label : Netral\n",
            "\n"
          ]
        }
      ],
      "source": [
        "examples = [\n",
        "    'Aku suka dia',\n",
        "    'jelek',\n",
        "    'gak nyangka sih'\n",
        "]\n",
        "\n",
        "original_results = tf.sigmoid(classifier_model(tf.constant(examples)))\n",
        "\n",
        "def prediksi(result):\n",
        "  for i in range(len(result)):\n",
        "    print(f'Score : {result[i][0]:.6f}')\n",
        "    if result[i][0] > 0.6:\n",
        "      print('Label : Positif')\n",
        "    elif result[i][0] <= 0.6 and result[i][0] > 0.2:\n",
        "      print('Label : Netral')\n",
        "    else:\n",
        "      print('Label : Negatif')\n",
        "\n",
        "    print()\n",
        "\n",
        "prediksi(original_results)"
      ]
    },
    {
      "cell_type": "markdown",
      "source": [
        "##CONCLUSION"
      ],
      "metadata": {
        "id": "W5m29qHA1AL7"
      }
    },
    {
      "cell_type": "markdown",
      "source": [
        "dapat dilihat dari hasil diatas jika di explore lebih lagi akan terjadi penyelewengan, kenapa begitu karena datasetnya. Dari dataset tersebut labeling datanya tentunya banyak yang kata negatif menjadi respon yang positif jadi saat kita search kata yang negatif yang memiliki maksud negatif akan terdeteksi netral maupun negatif. jadi program ini memerlukan pembelajaran yang lebih lagi untuk disempurnakan"
      ],
      "metadata": {
        "id": "Zgg3u53z1D7a"
      }
    },
    {
      "cell_type": "markdown",
      "source": [
        "**Cr: Ida Ayu Oka Dewi Cahyani, 2022**\n",
        "\n",
        "coach untuk kelompok 4 yang kerja itu cuma saya dan yudha Mansoba, untuk ikram membantu sedikit kalau suriani tidak ada kontribusinya sama sekali."
      ],
      "metadata": {
        "id": "6ZmMw1IOhkXx"
      }
    }
  ],
  "metadata": {
    "colab": {
      "provenance": []
    },
    "kernelspec": {
      "display_name": "Python 3",
      "name": "python3"
    },
    "language_info": {
      "name": "python"
    },
    "accelerator": "GPU"
  },
  "nbformat": 4,
  "nbformat_minor": 0
}